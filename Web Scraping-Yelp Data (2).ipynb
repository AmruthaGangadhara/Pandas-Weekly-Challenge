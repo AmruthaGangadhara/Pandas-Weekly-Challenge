{
 "cells": [
  {
   "cell_type": "code",
   "execution_count": 35,
   "id": "79832c34",
   "metadata": {},
   "outputs": [
    {
     "name": "stdout",
     "output_type": "stream",
     "text": [
      "Current Working Directory: C:\\Users\\amrut\n",
      "HTML content read successfully.\n"
     ]
    }
   ],
   "source": [
    "import os\n",
    "\n",
    "file_path = r\"C:\\Users\\amrut\\OneDrive\\Documents\\CSE6040\\Top 10 Best Ramen in Seattle, WA - August 2023 - Yelp.html\"\n",
    "\n",
    "print(\"Current Working Directory:\", os.getcwd())\n",
    "\n",
    "try:\n",
    "    with open(file_path, \"r\", encoding=\"utf-8\") as file:\n",
    "        html_content = file.read()\n",
    "        print(\"HTML content read successfully.\")\n",
    "except FileNotFoundError:\n",
    "    print(\"File not found.\")\n",
    "except Exception as e:\n",
    "    print(\"An error occurred:\", e)"
   ]
  },
  {
   "cell_type": "code",
   "execution_count": null,
   "id": "7238afea",
   "metadata": {},
   "outputs": [],
   "source": [
    "# Write some Python code to create a variable named rankings, which is a list of dictionaries set up as follows:\n",
    "\n",
    "# rankings[i] is a dictionary corresponding to the restaurant whose rank is i+1.\n",
    "# rankings[i]['name']: The name of the restaurant, a string.\n",
    "# rankings[i]['stars']: The star rating, as a string, e.g., '4.5', '4.0'\n",
    "# rankings[i]['numrevs']: The number of reviews, as an integer.\n",
    "# rankings[i]['price']: The price range, as dollar signs, e.g., '$', '$$', '$$$', or '$$$$'."
   ]
  },
  {
   "cell_type": "code",
   "execution_count": 64,
   "id": "2e2321cc",
   "metadata": {},
   "outputs": [],
   "source": [
    "import re \n",
    "\n",
    "pattern=re.compile('<li class=\"  border-color--default__09f24__NPAKY\">(.*?)<\\/li>', re.DOTALL)\n",
    "content_list=re.findall(pattern,html_content)\n",
    "rankings=[{}] * len(content_list)\n",
    "\n",
    "\n",
    "for each_rest in content_list:\n",
    "    if each_rest!='':\n",
    "        dict_rest = {'numrevs': 0, 'name': \"\", 'stars': \"\", 'price': ''}\n",
    "\n",
    "    # rest_name=re.compile('<a[^>]*?name=\"(.*?)\"[^>]*?>')\n",
    "        rest_name = re.compile('<span\\sclass\\=\\\"\\scss-1egxyvc\\\"\\s.*name\\=\\\"([a-zA-Z0-9_ ]*)')\n",
    "        rest_rank = re.compile('<span\\sclass\\=\\\"\\scss\\-1egxyvc\\\"\\sdata\\-font\\-weight\\=\\\"bold\\\"\\>(\\d+)\\.')\n",
    "        rest_rating = re.compile('<span class\\=\\\" css-gutk1c\\\"[^>]*>(\\d+\\.\\d+)\\s\\<\\/span\\>')\n",
    "        rest_price = re.compile('<span class=\"priceRange__09f24__mmOuH css-blvn7s\">(.*?)<\\/span>')\n",
    "        rest_num_rev = re.compile('<span class\\=\\\"\\scss-chan6m\\\"\\>\\((.* reviews)\\)\\<\\/span\\>')\n",
    "        name_find = re.findall(rest_name, each_rest)\n",
    "        rank_find = re.findall(rest_rank, each_rest)\n",
    "        price_find = re.findall(rest_price, each_rest)\n",
    "        rating_find = re.findall(rest_rating, each_rest)\n",
    "        rest_num_rev = re.findall(rest_num_rev, each_rest)\n",
    "    \n",
    "        if len(name_find)==1:\n",
    "            dict_rest['name'] = name_find[0]\n",
    "        if len(rating_find)==1:\n",
    "            dict_rest['stars'] = rating_find[0]\n",
    "        if len(rest_num_rev)==1:\n",
    "            dict_rest['numrevs'] = (rest_num_rev[0])\n",
    "        if len(price_find)==1:\n",
    "            dict_rest['price'] = price_find[0]\n",
    "            rankings[int(rank_find[0]) - 1] = dict_rest\n",
    "        if len(rankings)==9:\n",
    "            break\n"
   ]
  },
  {
   "cell_type": "code",
   "execution_count": 65,
   "id": "757d4ce0",
   "metadata": {},
   "outputs": [
    {
     "name": "stdout",
     "output_type": "stream",
     "text": [
      "[{'numrevs': '2k reviews', 'name': 'Ramen Danbo', 'stars': '4.3', 'price': '$$'}, {'numrevs': '1.5k reviews', 'name': 'Kizuki Ramen ', 'stars': '3.8', 'price': '$$'}, {'numrevs': '533 reviews', 'name': 'Menya Musashi Tsukemen ', 'stars': '4.1', 'price': '$$'}, {'numrevs': '466 reviews', 'name': 'Arashi Ramen', 'stars': '4.3', 'price': '$$'}, {'numrevs': '618 reviews', 'name': 'Ooink', 'stars': '4.2', 'price': '$$'}, {'numrevs': '441 reviews', 'name': 'Betsu Ten Jin', 'stars': '4.0', 'price': '$$'}, {'numrevs': '370 reviews', 'name': 'Nuna Ramen', 'stars': '3.9', 'price': '$$'}, {'numrevs': '626 reviews', 'name': 'Shinya Shokudo ', 'stars': '4.3', 'price': '$$'}, {'numrevs': '486 reviews', 'name': 'Rondo', 'stars': '4.4', 'price': '$$'}]\n"
     ]
    }
   ],
   "source": [
    "final_rankings=[]\n",
    "for entry in rankings:\n",
    "    if len(entry)>1:\n",
    "        final_rankings.append(entry)\n",
    "print(final_rankings)"
   ]
  }
 ],
 "metadata": {
  "kernelspec": {
   "display_name": "Python 3 (ipykernel)",
   "language": "python",
   "name": "python3"
  },
  "language_info": {
   "codemirror_mode": {
    "name": "ipython",
    "version": 3
   },
   "file_extension": ".py",
   "mimetype": "text/x-python",
   "name": "python",
   "nbconvert_exporter": "python",
   "pygments_lexer": "ipython3",
   "version": "3.9.12"
  }
 },
 "nbformat": 4,
 "nbformat_minor": 5
}
